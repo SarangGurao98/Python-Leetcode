{
 "cells": [
  {
   "cell_type": "code",
   "execution_count": null,
   "id": "e3f0540c",
   "metadata": {},
   "outputs": [],
   "source": [
    "\"\"\"\n",
    "67. Add Binary - Easy - Companies\n",
    "\n",
    "Given two binary strings a and b, return their sum as a binary string.\n",
    "\n",
    "Example 1:\n",
    "Input: a = \"11\", b = \"1\"\n",
    "Output: \"100\"\n",
    "\n",
    "Example 2:\n",
    "Input: a = \"1010\", b = \"1011\"\n",
    "Output: \"10101\"\n",
    " \n",
    "Constraints:\n",
    "1 <= a.length, b.length <= 104\n",
    "a and b consist only of '0' or '1' characters.\n",
    "Each string does not contain leading zeros except for the zero itself.\n",
    "\"\"\"\n",
    "\n",
    "a = \"11\"\n",
    "b = \"1\"\n",
    "#Output: \"100\"\n",
    "\n",
    "a = \"1010\" \n",
    "b = \"1011\"\n",
    "#Output: \"10101\"\n",
    "\n",
    "print(f\"Adding Binary: {a} + {b}\")\n",
    "print(f\"Adding Binary: {int(a,2)} + {int(b,2)}\")\n",
    "c = bin(int(a,2)+int(b,2))\n",
    "c = c.replace(\"0b\",\"\")\n",
    "print(f\"Adding Binary: {c}\")\n"
   ]
  },
  {
   "cell_type": "code",
   "execution_count": null,
   "id": "69bcf2db",
   "metadata": {},
   "outputs": [],
   "source": []
  }
 ],
 "metadata": {
  "kernelspec": {
   "display_name": "Python 3 (ipykernel)",
   "language": "python",
   "name": "python3"
  },
  "language_info": {
   "codemirror_mode": {
    "name": "ipython",
    "version": 3
   },
   "file_extension": ".py",
   "mimetype": "text/x-python",
   "name": "python",
   "nbconvert_exporter": "python",
   "pygments_lexer": "ipython3",
   "version": "3.9.12"
  }
 },
 "nbformat": 4,
 "nbformat_minor": 5
}
