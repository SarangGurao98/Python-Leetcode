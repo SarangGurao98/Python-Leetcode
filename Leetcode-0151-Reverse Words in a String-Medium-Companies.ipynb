{
 "cells": [
  {
   "cell_type": "code",
   "execution_count": 1,
   "id": "9052e7b6",
   "metadata": {},
   "outputs": [
    {
     "name": "stdout",
     "output_type": "stream",
     "text": [
      "Reverse the string :the sky is blue\n",
      "Reverse the string :blue is sky the:\n"
     ]
    }
   ],
   "source": [
    "\"\"\"\n",
    "Top Interview 150\n",
    "Leetcode-0151-Reverse Words in a String-Medium-Companies\n",
    "Given an input string s, reverse the order of the words.\n",
    "A word is defined as a sequence of non-space characters. The words in s will be separated by at least one space.\n",
    "Return a string of the words in reverse order concatenated by a single space.\n",
    "Note that s may contain leading or trailing spaces or multiple spaces between two words. \n",
    "The returned string should only have a single space separating the words. Do not include any extra spaces.\n",
    "Example 1:\n",
    "Input: s = \"the sky is blue\"\n",
    "Output: \"blue is sky the\"\n",
    "Example 2:\n",
    "Input: s = \"  hello world  \"\n",
    "Output: \"world hello\"\n",
    "Explanation: Your reversed string should not contain leading or trailing spaces.\n",
    "\"\"\"\n",
    "\n",
    "s = \"the sky is blue\" # Output: \"blue is sky the\"\n",
    "#s = \"  hello world  \" # Output: \"world hello\"\n",
    "#s = \"a good   example\" #Output: \"example good a\"\n",
    "print(f\"Reverse the string :{s}\") \n",
    "\n",
    "s = s.strip()\n",
    "reverseS, ch = \"\",\"\"\n",
    "\n",
    "for i in range(len(s)-1,-1,-1):\n",
    "    if ord(s[i])!=32:\n",
    "        ch = s[i]+ ch\n",
    "    else:\n",
    "        if len(ch)>0:\n",
    "            reverseS = reverseS + ch + \" \"\n",
    "            ch = \"\"\n",
    "reverseS = reverseS + ch\n",
    "print(f\"Reverse the string :{reverseS}:\") "
   ]
  },
  {
   "cell_type": "code",
   "execution_count": null,
   "id": "86579b79",
   "metadata": {},
   "outputs": [],
   "source": []
  }
 ],
 "metadata": {
  "kernelspec": {
   "display_name": "Python 3 (ipykernel)",
   "language": "python",
   "name": "python3"
  },
  "language_info": {
   "codemirror_mode": {
    "name": "ipython",
    "version": 3
   },
   "file_extension": ".py",
   "mimetype": "text/x-python",
   "name": "python",
   "nbconvert_exporter": "python",
   "pygments_lexer": "ipython3",
   "version": "3.9.12"
  }
 },
 "nbformat": 4,
 "nbformat_minor": 5
}
