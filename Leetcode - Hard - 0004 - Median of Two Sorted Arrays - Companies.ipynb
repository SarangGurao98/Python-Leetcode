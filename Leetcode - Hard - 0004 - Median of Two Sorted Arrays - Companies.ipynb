{
 "cells": [
  {
   "cell_type": "code",
   "execution_count": null,
   "id": "2c4a59e5",
   "metadata": {},
   "outputs": [],
   "source": [
    "\"\"\"\n",
    "Leetcode - 4 - Median of Two Sorted Arrays - Hard - Companies\n",
    "\n",
    "Given two sorted arrays nums1 and nums2 of size m and n respectively, return the median of the two sorted arrays.\n",
    "The overall run time complexity should be O(log (m+n)).\n",
    "\n",
    "Example 1:\n",
    "Input: nums1 = [1,3], nums2 = [2]\n",
    "Output: 2.00000\n",
    "Explanation: merged array = [1,2,3] and median is 2.\n",
    "\n",
    "Example 2:\n",
    "Input: nums1 = [1,2], nums2 = [3,4]\n",
    "Output: 2.50000\n",
    "Explanation: merged array = [1,2,3,4] and median is (2 + 3) / 2 = 2.5.\n",
    " \n",
    "Constraints:\n",
    "nums1.length == m\n",
    "nums2.length == n\n",
    "0 <= m <= 1000\n",
    "0 <= n <= 1000\n",
    "1 <= m + n <= 2000\n",
    "-106 <= nums1[i], nums2[i] <= 106\n",
    "\n",
    "\"\"\"\n",
    "import math\n",
    "\n",
    "nums1 = [1,3]\n",
    "nums2 = [2]\n",
    "#Output: 2.00000 Explanation: merged array = [1,2,3] and median is 2.\n",
    "\n",
    "nums1 = [1,2]\n",
    "nums2 = [3,4]\n",
    "#Output: 2.50000 Explanation: merged array = [1,2,3,4] and median is (2 + 3) / 2 = 2.5.\n",
    "\n",
    "#nums1 = [1,3]\n",
    "#nums2 = [2,7]\n",
    "#Output:  2.50000\n",
    "print(f\"nums1:{nums1}\")\n",
    "print(f\"nums2:{nums2}\")\n",
    "nums1.extend(nums2)\n",
    "nums1.sort()\n",
    "print(f\"nums1:{nums1}\")\n",
    "\n",
    "lenNum = len(nums1)-1\n",
    "if len(nums1)%2==1:\n",
    "    median = nums1[lenNum//2]\n",
    "else:\n",
    "    x = math.floor(lenNum/2)\n",
    "    y = math.ceil(lenNum/2)\n",
    "    median=(nums1[x]+nums1[y])/2\n",
    "    \n",
    "print(f\"median:{median}\")"
   ]
  }
 ],
 "metadata": {
  "kernelspec": {
   "display_name": "Python 3 (ipykernel)",
   "language": "python",
   "name": "python3"
  },
  "language_info": {
   "codemirror_mode": {
    "name": "ipython",
    "version": 3
   },
   "file_extension": ".py",
   "mimetype": "text/x-python",
   "name": "python",
   "nbconvert_exporter": "python",
   "pygments_lexer": "ipython3",
   "version": "3.9.12"
  }
 },
 "nbformat": 4,
 "nbformat_minor": 5
}
