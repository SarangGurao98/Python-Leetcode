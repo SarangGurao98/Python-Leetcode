{
 "cells": [
  {
   "cell_type": "code",
   "execution_count": 112,
   "id": "0743a69c",
   "metadata": {},
   "outputs": [
    {
     "name": "stdout",
     "output_type": "stream",
     "text": [
      "Input array nums: [1, 1, 2, 2, 0, 1, 1]\n",
      "i:0, num[0]:1\n",
      "i:0, temp:[1]\n",
      "i:1, num[1]:1\n",
      "i:1, temp:[2]\n",
      "i:3, num[3]:2\n",
      "i:3, temp:[0, 1]\n",
      "i:4, num[4]:0\n",
      "i:4, temp:[]\n",
      "i:4, num[4]:0\n",
      "i:4, temp:[]\n",
      "i:4, num[4]:0\n",
      "i:4, temp:[]\n",
      "i:4, num[4]:0\n",
      "i:4, temp:[]\n",
      "i:4, num[4]:0\n",
      "i:4, temp:[]\n",
      "Failure\n",
      "reachLastIndex: False\n"
     ]
    }
   ],
   "source": [
    "\"\"\"\n",
    "Leetcode-0055-Jump Game-Medium-Companies\n",
    "\n",
    "You are given an integer array nums. You are initially positioned at the array's first index, \n",
    "and each element in the array represents your maximum jump length at that position.\n",
    "Return true if you can reach the last index, or false otherwise.\n",
    "\n",
    "Example 1:\n",
    "Input: nums = [2,3,1,1,4]\n",
    "Output: true\n",
    "Explanation: Jump 1 step from index 0 to 1, then 3 steps to the last index.\n",
    "\n",
    "Example 2:\n",
    "Input: nums = [3,2,1,0,4]\n",
    "Output: false\n",
    "Explanation: You will always arrive at index 3 no matter what. Its maximum jump length is 0, \n",
    "which makes it impossible to reach the last index.\n",
    " \n",
    "Constraints:\n",
    "1 <= nums.length <= 104\n",
    "0 <= nums[i] <= 105\n",
    "\"\"\"\n",
    "\n",
    "nums = [2,3,1,1,4]      #Output: True\n",
    "nums = [3,2,1,0,4]      #Output: False\n",
    "nums = [0]              #Output: True  \n",
    "nums = [2,5,0,0]        #Output: True\n",
    "nums = [1,2]            #Output: True\n",
    "nums = [1,1,2,2,0,1,1]   #Output: True\n",
    "\n",
    "print(f\"Input array nums: {nums}\")\n",
    "count=len(nums)\n",
    "i=0\n",
    "reachLastIndex = True\n",
    "temp=[]\n",
    "while i<=len(nums):\n",
    "    if i>=(len(nums)-1):\n",
    "        print(f\"SUCCESS\")\n",
    "        break\n",
    "    if count<0:\n",
    "        print(f\"Failure\")\n",
    "        reachLastIndex = False\n",
    "        break\n",
    "    print(f\"i:{i}, num[{i}]:{nums[i]}\")\n",
    "    temp = nums[i+1:(i+nums[i])+1]\n",
    "    print(f\"i:{i}, temp:{temp}\")\n",
    "    jump=0\n",
    "    if len(temp)!=0:\n",
    "        jump = max(temp)\n",
    "    while jump>0:\n",
    "        i+=1\n",
    "        jump-=1\n",
    "    count-=1\n",
    "    #print(f\"after i:{i}, num[{i}]:{nums[i]}\")\n",
    "    \n",
    "print(f\"reachLastIndex: {reachLastIndex}\")"
   ]
  },
  {
   "cell_type": "code",
   "execution_count": 105,
   "id": "4cd0dc1a",
   "metadata": {},
   "outputs": [
    {
     "name": "stdout",
     "output_type": "stream",
     "text": [
      "reachLastIndex: True\n"
     ]
    }
   ],
   "source": [
    "count=len(nums)\n",
    "i=0\n",
    "reachLastIndex = True\n",
    "temp=[]\n",
    "while i<=len(nums):\n",
    "    if i>=(len(nums)-1):\n",
    "        break\n",
    "    if count<0:\n",
    "        reachLastIndex = False\n",
    "        break\n",
    "    temp = nums[i:i+nums[i]]\n",
    "    jump=0\n",
    "    if len(temp)!=0:\n",
    "        jump = max(temp)\n",
    "    while jump>0:\n",
    "        i+=1\n",
    "        jump-=1\n",
    "    count-=1\n",
    "print(f\"reachLastIndex: {reachLastIndex}\")"
   ]
  },
  {
   "cell_type": "code",
   "execution_count": 89,
   "id": "4e015a74",
   "metadata": {},
   "outputs": [
    {
     "name": "stdout",
     "output_type": "stream",
     "text": [
      "[2, 0]\n"
     ]
    }
   ],
   "source": [
    "nums=[1, 1, 2, 2, 0, 1, 1]\n",
    "i=2\n",
    "temp = nums[i+1:(i+nums[i])+1]\n",
    "print(temp)"
   ]
  },
  {
   "cell_type": "code",
   "execution_count": null,
   "id": "ba44d654",
   "metadata": {},
   "outputs": [],
   "source": []
  }
 ],
 "metadata": {
  "kernelspec": {
   "display_name": "Python 3 (ipykernel)",
   "language": "python",
   "name": "python3"
  },
  "language_info": {
   "codemirror_mode": {
    "name": "ipython",
    "version": 3
   },
   "file_extension": ".py",
   "mimetype": "text/x-python",
   "name": "python",
   "nbconvert_exporter": "python",
   "pygments_lexer": "ipython3",
   "version": "3.9.12"
  }
 },
 "nbformat": 4,
 "nbformat_minor": 5
}
